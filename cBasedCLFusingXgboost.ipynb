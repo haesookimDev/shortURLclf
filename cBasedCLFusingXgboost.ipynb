{
 "cells": [
  {
   "cell_type": "code",
   "execution_count": null,
   "metadata": {},
   "outputs": [],
   "source": [
    "import xgboost\n",
    "from xgboost import XGBClassifier\n",
    "import pandas as pd\n",
    "import numpy as np\n",
    "from sklearn.model_selection import train_test_split, GridSearchCV\n",
    "from sklearn.metrics import accuracy_score,f1_score\n",
    "from sklearn.preprocessing import MinMaxScaler"
   ]
  },
  {
   "cell_type": "code",
   "execution_count": null,
   "metadata": {},
   "outputs": [],
   "source": [
    "df_URL = pd.read_csv('shortURL/dataset_phishing.csv')"
   ]
  },
  {
   "cell_type": "code",
   "execution_count": null,
   "metadata": {},
   "outputs": [],
   "source": [
    "df_URL.columns"
   ]
  },
  {
   "cell_type": "code",
   "execution_count": null,
   "metadata": {},
   "outputs": [],
   "source": [
    "def Preprocessing_url(df):\n",
    "   df = df[['url', 'length_url', 'ip',\n",
    "       'nb_dslash', 'http_in_path', 'https_token', 'ratio_digits_url',\n",
    "       'ratio_digits_host', 'punycode', 'port', 'tld_in_path',\n",
    "       'tld_in_subdomain', 'abnormal_subdomain', 'nb_subdomains',\n",
    "       'prefix_suffix', 'random_domain', 'shortening_service',\n",
    "       'path_extension', 'nb_redirection', 'nb_external_redirection',\n",
    "       'length_words_raw', 'char_repeat', 'shortest_words_raw',\n",
    "       'shortest_word_host', 'shortest_word_path', 'longest_words_raw',\n",
    "       'longest_word_host', 'longest_word_path', 'avg_words_raw',\n",
    "       'avg_word_host', 'avg_word_path', 'phish_hints', 'domain_in_brand',\n",
    "       'brand_in_subdomain', 'brand_in_path', 'suspecious_tld',\n",
    "       'statistical_report', 'nb_hyperlinks', 'ratio_intHyperlinks',\n",
    "       'ratio_extHyperlinks', 'ratio_nullHyperlinks', 'nb_extCSS',\n",
    "       'ratio_intRedirection', 'ratio_extRedirection', 'ratio_intErrors',\n",
    "       'ratio_extErrors', 'login_form', 'external_favicon', 'links_in_tags',\n",
    "       'submit_email', 'ratio_intMedia', 'ratio_extMedia', 'sfh', 'iframe',\n",
    "       'popup_window', 'safe_anchor', 'onmouseover', 'right_clic',\n",
    "       'empty_title', 'domain_in_title', 'domain_with_copyright',\n",
    "       'whois_registered_domain', 'domain_registration_length', 'domain_age',\n",
    "       'web_traffic', 'dns_record', 'google_index', 'page_rank', 'status']]\n",
    "    \n",
    "   df['phishing'] = (df['status'] == 'phishing')\n",
    "\n",
    "   df.drop('status', inplace=True, axis=1)\n",
    "   #df.drop('Unnamed: 0', inplace=True, axis=1)\n",
    "   \n",
    "   return df"
   ]
  },
  {
   "cell_type": "code",
   "execution_count": null,
   "metadata": {},
   "outputs": [],
   "source": [
    "def Preprocessing(df):\n",
    "   df = df[['shortening_service','nb_hyperlinks', 'ratio_intHyperlinks',\n",
    "      'ratio_extHyperlinks', 'ratio_nullHyperlinks', 'nb_extCSS',\n",
    "      'ratio_intRedirection', 'ratio_extRedirection', 'ratio_intErrors',\n",
    "      'ratio_extErrors', 'login_form', 'external_favicon', 'links_in_tags',\n",
    "      'submit_email', 'ratio_intMedia', 'ratio_extMedia', 'sfh', 'iframe',\n",
    "      'popup_window', 'safe_anchor', 'onmouseover', 'right_clic',\n",
    "      'empty_title', 'domain_in_title', 'domain_with_copyright',\n",
    "      'whois_registered_domain', 'domain_registration_length', 'domain_age',\n",
    "      'web_traffic', 'dns_record', 'google_index', 'page_rank', 'status']]\n",
    "    \n",
    "   df['phishing'] = (df['status'] == 'phishing')\n",
    "\n",
    "   df.drop('status', inplace=True, axis=1)\n",
    "   #df.drop('Unnamed: 0', inplace=True, axis=1)\n",
    "   \n",
    "   return df"
   ]
  },
  {
   "cell_type": "code",
   "execution_count": null,
   "metadata": {},
   "outputs": [],
   "source": [
    "def Scaling(df, scaler):\n",
    "    if scaler == None:\n",
    "        scaler = MinMaxScaler()\n",
    "        scaler.fit(df)\n",
    "\n",
    "    df_scaled_np = scaler.transform(df)\n",
    "\n",
    "    df_scaled = pd.DataFrame(data=df_scaled_np, columns=df.columns)\n",
    "\n",
    "    return df_scaled, scaler"
   ]
  },
  {
   "cell_type": "code",
   "execution_count": null,
   "metadata": {},
   "outputs": [],
   "source": [
    "train_columns = ['shortening_service','nb_hyperlinks', 'ratio_intHyperlinks',\n",
    "       'ratio_extHyperlinks', 'ratio_nullHyperlinks', 'nb_extCSS',\n",
    "       'ratio_intRedirection', 'ratio_extRedirection', 'ratio_intErrors',\n",
    "       'ratio_extErrors', 'login_form', 'external_favicon', 'links_in_tags',\n",
    "       'submit_email', 'ratio_intMedia', 'ratio_extMedia', 'sfh', 'iframe',\n",
    "       'popup_window', 'safe_anchor', 'onmouseover', 'right_clic',\n",
    "       'empty_title', 'domain_in_title', 'domain_with_copyright',\n",
    "       'whois_registered_domain', 'domain_registration_length', 'domain_age',\n",
    "       'web_traffic', 'dns_record', 'google_index', 'page_rank']"
   ]
  },
  {
   "cell_type": "code",
   "execution_count": null,
   "metadata": {},
   "outputs": [],
   "source": [
    "df_URL_pre = Preprocessing(df_URL)"
   ]
  },
  {
   "cell_type": "code",
   "execution_count": null,
   "metadata": {},
   "outputs": [],
   "source": [
    "df_URL_scaled, scaler = Scaling(df_URL_pre, None)"
   ]
  },
  {
   "cell_type": "code",
   "execution_count": null,
   "metadata": {},
   "outputs": [],
   "source": [
    "X_train, X_val, y_train, y_val = train_test_split(df_URL_scaled[train_columns], df_URL_scaled['phishing'], test_size = 0.25, random_state = 32)"
   ]
  },
  {
   "cell_type": "code",
   "execution_count": null,
   "metadata": {},
   "outputs": [],
   "source": [
    "model = XGBClassifier(n_estimators=500, learning_rate=0.2, max_depth=4, random_state = 32)"
   ]
  },
  {
   "cell_type": "code",
   "execution_count": null,
   "metadata": {},
   "outputs": [],
   "source": [
    "X_train.drop('shortening_service', axis=1, inplace=True)"
   ]
  },
  {
   "cell_type": "code",
   "execution_count": null,
   "metadata": {},
   "outputs": [],
   "source": [
    "model.fit(X_train, y_train)"
   ]
  },
  {
   "cell_type": "code",
   "execution_count": null,
   "metadata": {},
   "outputs": [],
   "source": [
    "import time\n",
    "\n",
    "\n",
    "start_time = time.process_time()\n",
    "\n",
    "y_pred = model.predict(X_val.drop('shortening_service',axis=1))\n",
    "print(accuracy_score(y_pred, y_val))\n",
    "\n",
    "end_time = time.process_time()\n",
    "print(f\"time elapsed : {int(round((end_time - start_time) * 1000))}ms\")\n"
   ]
  },
  {
   "cell_type": "code",
   "execution_count": null,
   "metadata": {},
   "outputs": [],
   "source": [
    "import time\n",
    "\n",
    "\n",
    "start_time = time.process_time()\n",
    "\n",
    "y_pred = model.predict(X_val.drop('shortening_service',axis=1)[:1])\n",
    "print(y_pred)\n",
    "\n",
    "end_time = time.process_time()\n",
    "print(f\"time elapsed : {int(round((end_time - start_time) * 1000))}ms\")"
   ]
  },
  {
   "cell_type": "code",
   "execution_count": null,
   "metadata": {},
   "outputs": [],
   "source": [
    "print(f1_score(y_pred, y_val))"
   ]
  },
  {
   "cell_type": "code",
   "execution_count": null,
   "metadata": {},
   "outputs": [],
   "source": [
    "X_val=X_val[X_val['shortening_service']==1]\n",
    "y_val = y_val.loc[X_val.index]"
   ]
  },
  {
   "cell_type": "code",
   "execution_count": null,
   "metadata": {},
   "outputs": [],
   "source": [
    "start_time = time.process_time()\n",
    "y_pred = model.predict(X_val.drop('shortening_service',axis=1))\n",
    "print(accuracy_score(y_pred, y_val))\n",
    "end_time = time.process_time()\n",
    "print(f\"time elapsed : {int(round((end_time - start_time) * 1000))}ms\")"
   ]
  },
  {
   "cell_type": "code",
   "execution_count": null,
   "metadata": {},
   "outputs": [],
   "source": [
    "print(f1_score(y_pred, y_val))"
   ]
  },
  {
   "cell_type": "code",
   "execution_count": null,
   "metadata": {},
   "outputs": [],
   "source": [
    "xgb_param_grid={\n",
    "    'n_estimators' : [100,200,300,400,500],\n",
    "    'learning_rate' : [0.01,0.05,0.1,0.15],\n",
    "    'max_depth' : [3,5,7,10,15],\n",
    "    'gamma' : [0,1,2,3],\n",
    "    'colsample_bytree' : [0.8,0.9],\n",
    "    \n",
    "}"
   ]
  },
  {
   "cell_type": "code",
   "execution_count": null,
   "metadata": {},
   "outputs": [],
   "source": [
    "xgb_grid=GridSearchCV(model, param_grid = xgb_param_grid, scoring=\"f1_macro\", n_jobs=-1, verbose = 2)\n",
    "xgb_grid.fit(X_train, y_train)"
   ]
  },
  {
   "cell_type": "code",
   "execution_count": null,
   "metadata": {},
   "outputs": [],
   "source": [
    "print(\"best f1_macro : {0: .4f}\".format(xgb_grid.best_score_))\n",
    "print(\"best param : \",xgb_grid.best_params_)"
   ]
  },
  {
   "cell_type": "code",
   "execution_count": null,
   "metadata": {},
   "outputs": [],
   "source": []
  }
 ],
 "metadata": {
  "kernelspec": {
   "display_name": "Python 3 (ipykernel)",
   "language": "python",
   "name": "python3"
  },
  "language_info": {
   "codemirror_mode": {
    "name": "ipython",
    "version": 3
   },
   "file_extension": ".py",
   "mimetype": "text/x-python",
   "name": "python",
   "nbconvert_exporter": "python",
   "pygments_lexer": "ipython3",
   "version": "3.7.13"
  },
  "orig_nbformat": 4,
  "vscode": {
   "interpreter": {
    "hash": "31f2aee4e71d21fbe5cf8b01ff0e069b9275f58929596ceb00d14d90e3e16cd6"
   }
  }
 },
 "nbformat": 4,
 "nbformat_minor": 2
}
